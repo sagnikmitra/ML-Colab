{
  "nbformat": 4,
  "nbformat_minor": 0,
  "metadata": {
    "colab": {
      "name": "AAPL & Sunspots Data Analysis.ipynb",
      "provenance": [],
      "authorship_tag": "ABX9TyM58b43GrTb5zv7YQ5OzYew",
      "include_colab_link": true
    },
    "kernelspec": {
      "name": "python3",
      "display_name": "Python 3"
    }
  },
  "cells": [
    {
      "cell_type": "markdown",
      "metadata": {
        "id": "view-in-github",
        "colab_type": "text"
      },
      "source": [
        "<a href=\"https://colab.research.google.com/github/sagnikmitra/ML-Colab/blob/master/AAPL_%26_Sunspots_Data_Analysis.ipynb\" target=\"_parent\"><img src=\"https://colab.research.google.com/assets/colab-badge.svg\" alt=\"Open In Colab\"/></a>"
      ]
    },
    {
      "cell_type": "code",
      "metadata": {
        "id": "bOugqEAFkQ6P",
        "colab_type": "code",
        "outputId": "9173a251-0580-4bd3-b8c1-1e0f3216efae",
        "colab": {
          "resources": {
            "http://localhost:8080/nbextensions/google.colab/files.js": {
              "data": "Ly8gQ29weXJpZ2h0IDIwMTcgR29vZ2xlIExMQwovLwovLyBMaWNlbnNlZCB1bmRlciB0aGUgQXBhY2hlIExpY2Vuc2UsIFZlcnNpb24gMi4wICh0aGUgIkxpY2Vuc2UiKTsKLy8geW91IG1heSBub3QgdXNlIHRoaXMgZmlsZSBleGNlcHQgaW4gY29tcGxpYW5jZSB3aXRoIHRoZSBMaWNlbnNlLgovLyBZb3UgbWF5IG9idGFpbiBhIGNvcHkgb2YgdGhlIExpY2Vuc2UgYXQKLy8KLy8gICAgICBodHRwOi8vd3d3LmFwYWNoZS5vcmcvbGljZW5zZXMvTElDRU5TRS0yLjAKLy8KLy8gVW5sZXNzIHJlcXVpcmVkIGJ5IGFwcGxpY2FibGUgbGF3IG9yIGFncmVlZCB0byBpbiB3cml0aW5nLCBzb2Z0d2FyZQovLyBkaXN0cmlidXRlZCB1bmRlciB0aGUgTGljZW5zZSBpcyBkaXN0cmlidXRlZCBvbiBhbiAiQVMgSVMiIEJBU0lTLAovLyBXSVRIT1VUIFdBUlJBTlRJRVMgT1IgQ09ORElUSU9OUyBPRiBBTlkgS0lORCwgZWl0aGVyIGV4cHJlc3Mgb3IgaW1wbGllZC4KLy8gU2VlIHRoZSBMaWNlbnNlIGZvciB0aGUgc3BlY2lmaWMgbGFuZ3VhZ2UgZ292ZXJuaW5nIHBlcm1pc3Npb25zIGFuZAovLyBsaW1pdGF0aW9ucyB1bmRlciB0aGUgTGljZW5zZS4KCi8qKgogKiBAZmlsZW92ZXJ2aWV3IEhlbHBlcnMgZm9yIGdvb2dsZS5jb2xhYiBQeXRob24gbW9kdWxlLgogKi8KKGZ1bmN0aW9uKHNjb3BlKSB7CmZ1bmN0aW9uIHNwYW4odGV4dCwgc3R5bGVBdHRyaWJ1dGVzID0ge30pIHsKICBjb25zdCBlbGVtZW50ID0gZG9jdW1lbnQuY3JlYXRlRWxlbWVudCgnc3BhbicpOwogIGVsZW1lbnQudGV4dENvbnRlbnQgPSB0ZXh0OwogIGZvciAoY29uc3Qga2V5IG9mIE9iamVjdC5rZXlzKHN0eWxlQXR0cmlidXRlcykpIHsKICAgIGVsZW1lbnQuc3R5bGVba2V5XSA9IHN0eWxlQXR0cmlidXRlc1trZXldOwogIH0KICByZXR1cm4gZWxlbWVudDsKfQoKLy8gTWF4IG51bWJlciBvZiBieXRlcyB3aGljaCB3aWxsIGJlIHVwbG9hZGVkIGF0IGEgdGltZS4KY29uc3QgTUFYX1BBWUxPQURfU0laRSA9IDEwMCAqIDEwMjQ7Ci8vIE1heCBhbW91bnQgb2YgdGltZSB0byBibG9jayB3YWl0aW5nIGZvciB0aGUgdXNlci4KY29uc3QgRklMRV9DSEFOR0VfVElNRU9VVF9NUyA9IDMwICogMTAwMDsKCmZ1bmN0aW9uIF91cGxvYWRGaWxlcyhpbnB1dElkLCBvdXRwdXRJZCkgewogIGNvbnN0IHN0ZXBzID0gdXBsb2FkRmlsZXNTdGVwKGlucHV0SWQsIG91dHB1dElkKTsKICBjb25zdCBvdXRwdXRFbGVtZW50ID0gZG9jdW1lbnQuZ2V0RWxlbWVudEJ5SWQob3V0cHV0SWQpOwogIC8vIENhY2hlIHN0ZXBzIG9uIHRoZSBvdXRwdXRFbGVtZW50IHRvIG1ha2UgaXQgYXZhaWxhYmxlIGZvciB0aGUgbmV4dCBjYWxsCiAgLy8gdG8gdXBsb2FkRmlsZXNDb250aW51ZSBmcm9tIFB5dGhvbi4KICBvdXRwdXRFbGVtZW50LnN0ZXBzID0gc3RlcHM7CgogIHJldHVybiBfdXBsb2FkRmlsZXNDb250aW51ZShvdXRwdXRJZCk7Cn0KCi8vIFRoaXMgaXMgcm91Z2hseSBhbiBhc3luYyBnZW5lcmF0b3IgKG5vdCBzdXBwb3J0ZWQgaW4gdGhlIGJyb3dzZXIgeWV0KSwKLy8gd2hlcmUgdGhlcmUgYXJlIG11bHRpcGxlIGFzeW5jaHJvbm91cyBzdGVwcyBhbmQgdGhlIFB5dGhvbiBzaWRlIGlzIGdvaW5nCi8vIHRvIHBvbGwgZm9yIGNvbXBsZXRpb24gb2YgZWFjaCBzdGVwLgovLyBUaGlzIHVzZXMgYSBQcm9taXNlIHRvIGJsb2NrIHRoZSBweXRob24gc2lkZSBvbiBjb21wbGV0aW9uIG9mIGVhY2ggc3RlcCwKLy8gdGhlbiBwYXNzZXMgdGhlIHJlc3VsdCBvZiB0aGUgcHJldmlvdXMgc3RlcCBhcyB0aGUgaW5wdXQgdG8gdGhlIG5leHQgc3RlcC4KZnVuY3Rpb24gX3VwbG9hZEZpbGVzQ29udGludWUob3V0cHV0SWQpIHsKICBjb25zdCBvdXRwdXRFbGVtZW50ID0gZG9jdW1lbnQuZ2V0RWxlbWVudEJ5SWQob3V0cHV0SWQpOwogIGNvbnN0IHN0ZXBzID0gb3V0cHV0RWxlbWVudC5zdGVwczsKCiAgY29uc3QgbmV4dCA9IHN0ZXBzLm5leHQob3V0cHV0RWxlbWVudC5sYXN0UHJvbWlzZVZhbHVlKTsKICByZXR1cm4gUHJvbWlzZS5yZXNvbHZlKG5leHQudmFsdWUucHJvbWlzZSkudGhlbigodmFsdWUpID0+IHsKICAgIC8vIENhY2hlIHRoZSBsYXN0IHByb21pc2UgdmFsdWUgdG8gbWFrZSBpdCBhdmFpbGFibGUgdG8gdGhlIG5leHQKICAgIC8vIHN0ZXAgb2YgdGhlIGdlbmVyYXRvci4KICAgIG91dHB1dEVsZW1lbnQubGFzdFByb21pc2VWYWx1ZSA9IHZhbHVlOwogICAgcmV0dXJuIG5leHQudmFsdWUucmVzcG9uc2U7CiAgfSk7Cn0KCi8qKgogKiBHZW5lcmF0b3IgZnVuY3Rpb24gd2hpY2ggaXMgY2FsbGVkIGJldHdlZW4gZWFjaCBhc3luYyBzdGVwIG9mIHRoZSB1cGxvYWQKICogcHJvY2Vzcy4KICogQHBhcmFtIHtzdHJpbmd9IGlucHV0SWQgRWxlbWVudCBJRCBvZiB0aGUgaW5wdXQgZmlsZSBwaWNrZXIgZWxlbWVudC4KICogQHBhcmFtIHtzdHJpbmd9IG91dHB1dElkIEVsZW1lbnQgSUQgb2YgdGhlIG91dHB1dCBkaXNwbGF5LgogKiBAcmV0dXJuIHshSXRlcmFibGU8IU9iamVjdD59IEl0ZXJhYmxlIG9mIG5leHQgc3RlcHMuCiAqLwpmdW5jdGlvbiogdXBsb2FkRmlsZXNTdGVwKGlucHV0SWQsIG91dHB1dElkKSB7CiAgY29uc3QgaW5wdXRFbGVtZW50ID0gZG9jdW1lbnQuZ2V0RWxlbWVudEJ5SWQoaW5wdXRJZCk7CiAgaW5wdXRFbGVtZW50LmRpc2FibGVkID0gZmFsc2U7CgogIGNvbnN0IG91dHB1dEVsZW1lbnQgPSBkb2N1bWVudC5nZXRFbGVtZW50QnlJZChvdXRwdXRJZCk7CiAgb3V0cHV0RWxlbWVudC5pbm5lckhUTUwgPSAnJzsKCiAgY29uc3QgcGlja2VkUHJvbWlzZSA9IG5ldyBQcm9taXNlKChyZXNvbHZlKSA9PiB7CiAgICBpbnB1dEVsZW1lbnQuYWRkRXZlbnRMaXN0ZW5lcignY2hhbmdlJywgKGUpID0+IHsKICAgICAgcmVzb2x2ZShlLnRhcmdldC5maWxlcyk7CiAgICB9KTsKICB9KTsKCiAgY29uc3QgY2FuY2VsID0gZG9jdW1lbnQuY3JlYXRlRWxlbWVudCgnYnV0dG9uJyk7CiAgaW5wdXRFbGVtZW50LnBhcmVudEVsZW1lbnQuYXBwZW5kQ2hpbGQoY2FuY2VsKTsKICBjYW5jZWwudGV4dENvbnRlbnQgPSAnQ2FuY2VsIHVwbG9hZCc7CiAgY29uc3QgY2FuY2VsUHJvbWlzZSA9IG5ldyBQcm9taXNlKChyZXNvbHZlKSA9PiB7CiAgICBjYW5jZWwub25jbGljayA9ICgpID0+IHsKICAgICAgcmVzb2x2ZShudWxsKTsKICAgIH07CiAgfSk7CgogIC8vIENhbmNlbCB1cGxvYWQgaWYgdXNlciBoYXNuJ3QgcGlja2VkIGFueXRoaW5nIGluIHRpbWVvdXQuCiAgY29uc3QgdGltZW91dFByb21pc2UgPSBuZXcgUHJvbWlzZSgocmVzb2x2ZSkgPT4gewogICAgc2V0VGltZW91dCgoKSA9PiB7CiAgICAgIHJlc29sdmUobnVsbCk7CiAgICB9LCBGSUxFX0NIQU5HRV9USU1FT1VUX01TKTsKICB9KTsKCiAgLy8gV2FpdCBmb3IgdGhlIHVzZXIgdG8gcGljayB0aGUgZmlsZXMuCiAgY29uc3QgZmlsZXMgPSB5aWVsZCB7CiAgICBwcm9taXNlOiBQcm9taXNlLnJhY2UoW3BpY2tlZFByb21pc2UsIHRpbWVvdXRQcm9taXNlLCBjYW5jZWxQcm9taXNlXSksCiAgICByZXNwb25zZTogewogICAgICBhY3Rpb246ICdzdGFydGluZycsCiAgICB9CiAgfTsKCiAgaWYgKCFmaWxlcykgewogICAgcmV0dXJuIHsKICAgICAgcmVzcG9uc2U6IHsKICAgICAgICBhY3Rpb246ICdjb21wbGV0ZScsCiAgICAgIH0KICAgIH07CiAgfQoKICBjYW5jZWwucmVtb3ZlKCk7CgogIC8vIERpc2FibGUgdGhlIGlucHV0IGVsZW1lbnQgc2luY2UgZnVydGhlciBwaWNrcyBhcmUgbm90IGFsbG93ZWQuCiAgaW5wdXRFbGVtZW50LmRpc2FibGVkID0gdHJ1ZTsKCiAgZm9yIChjb25zdCBmaWxlIG9mIGZpbGVzKSB7CiAgICBjb25zdCBsaSA9IGRvY3VtZW50LmNyZWF0ZUVsZW1lbnQoJ2xpJyk7CiAgICBsaS5hcHBlbmQoc3BhbihmaWxlLm5hbWUsIHtmb250V2VpZ2h0OiAnYm9sZCd9KSk7CiAgICBsaS5hcHBlbmQoc3BhbigKICAgICAgICBgKCR7ZmlsZS50eXBlIHx8ICduL2EnfSkgLSAke2ZpbGUuc2l6ZX0gYnl0ZXMsIGAgKwogICAgICAgIGBsYXN0IG1vZGlmaWVkOiAkewogICAgICAgICAgICBmaWxlLmxhc3RNb2RpZmllZERhdGUgPyBmaWxlLmxhc3RNb2RpZmllZERhdGUudG9Mb2NhbGVEYXRlU3RyaW5nKCkgOgogICAgICAgICAgICAgICAgICAgICAgICAgICAgICAgICAgICAnbi9hJ30gLSBgKSk7CiAgICBjb25zdCBwZXJjZW50ID0gc3BhbignMCUgZG9uZScpOwogICAgbGkuYXBwZW5kQ2hpbGQocGVyY2VudCk7CgogICAgb3V0cHV0RWxlbWVudC5hcHBlbmRDaGlsZChsaSk7CgogICAgY29uc3QgZmlsZURhdGFQcm9taXNlID0gbmV3IFByb21pc2UoKHJlc29sdmUpID0+IHsKICAgICAgY29uc3QgcmVhZGVyID0gbmV3IEZpbGVSZWFkZXIoKTsKICAgICAgcmVhZGVyLm9ubG9hZCA9IChlKSA9PiB7CiAgICAgICAgcmVzb2x2ZShlLnRhcmdldC5yZXN1bHQpOwogICAgICB9OwogICAgICByZWFkZXIucmVhZEFzQXJyYXlCdWZmZXIoZmlsZSk7CiAgICB9KTsKICAgIC8vIFdhaXQgZm9yIHRoZSBkYXRhIHRvIGJlIHJlYWR5LgogICAgbGV0IGZpbGVEYXRhID0geWllbGQgewogICAgICBwcm9taXNlOiBmaWxlRGF0YVByb21pc2UsCiAgICAgIHJlc3BvbnNlOiB7CiAgICAgICAgYWN0aW9uOiAnY29udGludWUnLAogICAgICB9CiAgICB9OwoKICAgIC8vIFVzZSBhIGNodW5rZWQgc2VuZGluZyB0byBhdm9pZCBtZXNzYWdlIHNpemUgbGltaXRzLiBTZWUgYi82MjExNTY2MC4KICAgIGxldCBwb3NpdGlvbiA9IDA7CiAgICB3aGlsZSAocG9zaXRpb24gPCBmaWxlRGF0YS5ieXRlTGVuZ3RoKSB7CiAgICAgIGNvbnN0IGxlbmd0aCA9IE1hdGgubWluKGZpbGVEYXRhLmJ5dGVMZW5ndGggLSBwb3NpdGlvbiwgTUFYX1BBWUxPQURfU0laRSk7CiAgICAgIGNvbnN0IGNodW5rID0gbmV3IFVpbnQ4QXJyYXkoZmlsZURhdGEsIHBvc2l0aW9uLCBsZW5ndGgpOwogICAgICBwb3NpdGlvbiArPSBsZW5ndGg7CgogICAgICBjb25zdCBiYXNlNjQgPSBidG9hKFN0cmluZy5mcm9tQ2hhckNvZGUuYXBwbHkobnVsbCwgY2h1bmspKTsKICAgICAgeWllbGQgewogICAgICAgIHJlc3BvbnNlOiB7CiAgICAgICAgICBhY3Rpb246ICdhcHBlbmQnLAogICAgICAgICAgZmlsZTogZmlsZS5uYW1lLAogICAgICAgICAgZGF0YTogYmFzZTY0LAogICAgICAgIH0sCiAgICAgIH07CiAgICAgIHBlcmNlbnQudGV4dENvbnRlbnQgPQogICAgICAgICAgYCR7TWF0aC5yb3VuZCgocG9zaXRpb24gLyBmaWxlRGF0YS5ieXRlTGVuZ3RoKSAqIDEwMCl9JSBkb25lYDsKICAgIH0KICB9CgogIC8vIEFsbCBkb25lLgogIHlpZWxkIHsKICAgIHJlc3BvbnNlOiB7CiAgICAgIGFjdGlvbjogJ2NvbXBsZXRlJywKICAgIH0KICB9Owp9CgpzY29wZS5nb29nbGUgPSBzY29wZS5nb29nbGUgfHwge307CnNjb3BlLmdvb2dsZS5jb2xhYiA9IHNjb3BlLmdvb2dsZS5jb2xhYiB8fCB7fTsKc2NvcGUuZ29vZ2xlLmNvbGFiLl9maWxlcyA9IHsKICBfdXBsb2FkRmlsZXMsCiAgX3VwbG9hZEZpbGVzQ29udGludWUsCn07Cn0pKHNlbGYpOwo=",
              "ok": true,
              "headers": [
                [
                  "content-type",
                  "application/javascript"
                ]
              ],
              "status": 200,
              "status_text": "OK"
            }
          },
          "base_uri": "https://localhost:8080/",
          "height": 84
        }
      },
      "source": [
        "from google.colab import files\n",
        "uploaded = files.upload()"
      ],
      "execution_count": 0,
      "outputs": [
        {
          "output_type": "display_data",
          "data": {
            "text/html": [
              "\n",
              "     <input type=\"file\" id=\"files-a1347312-0c3c-41a0-addd-a89f98512afc\" name=\"files[]\" multiple disabled />\n",
              "     <output id=\"result-a1347312-0c3c-41a0-addd-a89f98512afc\">\n",
              "      Upload widget is only available when the cell has been executed in the\n",
              "      current browser session. Please rerun this cell to enable.\n",
              "      </output>\n",
              "      <script src=\"/nbextensions/google.colab/files.js\"></script> "
            ],
            "text/plain": [
              "<IPython.core.display.HTML object>"
            ]
          },
          "metadata": {
            "tags": []
          }
        },
        {
          "output_type": "stream",
          "text": [
            "Saving AAPL.csv to AAPL.csv\n"
          ],
          "name": "stdout"
        }
      ]
    },
    {
      "cell_type": "markdown",
      "metadata": {
        "id": "xev8wGK7Bkyb",
        "colab_type": "text"
      },
      "source": [
        "DAY 4"
      ]
    },
    {
      "cell_type": "markdown",
      "metadata": {
        "id": "mV-3BIxeBmDW",
        "colab_type": "text"
      },
      "source": [
        "SUMMER CAMP"
      ]
    },
    {
      "cell_type": "code",
      "metadata": {
        "id": "HYXphmJQkgLg",
        "colab_type": "code",
        "colab": {}
      },
      "source": [
        "import pandas as pd\n",
        "AAPL = pd.read_csv('AAPL.csv')"
      ],
      "execution_count": 0,
      "outputs": []
    },
    {
      "cell_type": "code",
      "metadata": {
        "id": "IJQ9V85Gkkin",
        "colab_type": "code",
        "outputId": "d91187b8-4aed-4d14-9bab-4885701825ba",
        "colab": {
          "base_uri": "https://localhost:8080/",
          "height": 332
        }
      },
      "source": [
        "AAPL.iloc[:9,:]"
      ],
      "execution_count": 0,
      "outputs": [
        {
          "output_type": "execute_result",
          "data": {
            "text/html": [
              "<div>\n",
              "<style scoped>\n",
              "    .dataframe tbody tr th:only-of-type {\n",
              "        vertical-align: middle;\n",
              "    }\n",
              "\n",
              "    .dataframe tbody tr th {\n",
              "        vertical-align: top;\n",
              "    }\n",
              "\n",
              "    .dataframe thead th {\n",
              "        text-align: right;\n",
              "    }\n",
              "</style>\n",
              "<table border=\"1\" class=\"dataframe\">\n",
              "  <thead>\n",
              "    <tr style=\"text-align: right;\">\n",
              "      <th></th>\n",
              "      <th>Date</th>\n",
              "      <th>Open</th>\n",
              "      <th>High</th>\n",
              "      <th>Low</th>\n",
              "      <th>Close</th>\n",
              "      <th>Adj Close</th>\n",
              "      <th>Volume</th>\n",
              "    </tr>\n",
              "  </thead>\n",
              "  <tbody>\n",
              "    <tr>\n",
              "      <th>0</th>\n",
              "      <td>2019-05-06</td>\n",
              "      <td>204.289993</td>\n",
              "      <td>208.839996</td>\n",
              "      <td>203.500000</td>\n",
              "      <td>208.479996</td>\n",
              "      <td>205.786469</td>\n",
              "      <td>32443100</td>\n",
              "    </tr>\n",
              "    <tr>\n",
              "      <th>1</th>\n",
              "      <td>2019-05-07</td>\n",
              "      <td>205.880005</td>\n",
              "      <td>207.419998</td>\n",
              "      <td>200.830002</td>\n",
              "      <td>202.860001</td>\n",
              "      <td>200.239075</td>\n",
              "      <td>38763700</td>\n",
              "    </tr>\n",
              "    <tr>\n",
              "      <th>2</th>\n",
              "      <td>2019-05-08</td>\n",
              "      <td>201.899994</td>\n",
              "      <td>205.339996</td>\n",
              "      <td>201.750000</td>\n",
              "      <td>202.899994</td>\n",
              "      <td>200.278534</td>\n",
              "      <td>26339500</td>\n",
              "    </tr>\n",
              "    <tr>\n",
              "      <th>3</th>\n",
              "      <td>2019-05-09</td>\n",
              "      <td>200.399994</td>\n",
              "      <td>201.679993</td>\n",
              "      <td>196.660004</td>\n",
              "      <td>200.720001</td>\n",
              "      <td>198.126709</td>\n",
              "      <td>34908600</td>\n",
              "    </tr>\n",
              "    <tr>\n",
              "      <th>4</th>\n",
              "      <td>2019-05-10</td>\n",
              "      <td>197.419998</td>\n",
              "      <td>198.850006</td>\n",
              "      <td>192.770004</td>\n",
              "      <td>197.179993</td>\n",
              "      <td>195.381973</td>\n",
              "      <td>41208700</td>\n",
              "    </tr>\n",
              "    <tr>\n",
              "      <th>5</th>\n",
              "      <td>2019-05-13</td>\n",
              "      <td>187.710007</td>\n",
              "      <td>189.479996</td>\n",
              "      <td>182.850006</td>\n",
              "      <td>185.720001</td>\n",
              "      <td>184.026489</td>\n",
              "      <td>57430600</td>\n",
              "    </tr>\n",
              "    <tr>\n",
              "      <th>6</th>\n",
              "      <td>2019-05-14</td>\n",
              "      <td>186.410004</td>\n",
              "      <td>189.699997</td>\n",
              "      <td>185.410004</td>\n",
              "      <td>188.660004</td>\n",
              "      <td>186.939667</td>\n",
              "      <td>36529700</td>\n",
              "    </tr>\n",
              "    <tr>\n",
              "      <th>7</th>\n",
              "      <td>2019-05-15</td>\n",
              "      <td>186.270004</td>\n",
              "      <td>191.750000</td>\n",
              "      <td>186.020004</td>\n",
              "      <td>190.919998</td>\n",
              "      <td>189.179062</td>\n",
              "      <td>26544700</td>\n",
              "    </tr>\n",
              "    <tr>\n",
              "      <th>8</th>\n",
              "      <td>2019-05-16</td>\n",
              "      <td>189.910004</td>\n",
              "      <td>192.470001</td>\n",
              "      <td>188.839996</td>\n",
              "      <td>190.080002</td>\n",
              "      <td>188.346725</td>\n",
              "      <td>33031400</td>\n",
              "    </tr>\n",
              "  </tbody>\n",
              "</table>\n",
              "</div>"
            ],
            "text/plain": [
              "         Date        Open        High  ...       Close   Adj Close    Volume\n",
              "0  2019-05-06  204.289993  208.839996  ...  208.479996  205.786469  32443100\n",
              "1  2019-05-07  205.880005  207.419998  ...  202.860001  200.239075  38763700\n",
              "2  2019-05-08  201.899994  205.339996  ...  202.899994  200.278534  26339500\n",
              "3  2019-05-09  200.399994  201.679993  ...  200.720001  198.126709  34908600\n",
              "4  2019-05-10  197.419998  198.850006  ...  197.179993  195.381973  41208700\n",
              "5  2019-05-13  187.710007  189.479996  ...  185.720001  184.026489  57430600\n",
              "6  2019-05-14  186.410004  189.699997  ...  188.660004  186.939667  36529700\n",
              "7  2019-05-15  186.270004  191.750000  ...  190.919998  189.179062  26544700\n",
              "8  2019-05-16  189.910004  192.470001  ...  190.080002  188.346725  33031400\n",
              "\n",
              "[9 rows x 7 columns]"
            ]
          },
          "metadata": {
            "tags": []
          },
          "execution_count": 6
        }
      ]
    },
    {
      "cell_type": "code",
      "metadata": {
        "id": "j8d5dnGZkrvc",
        "colab_type": "code",
        "outputId": "c31c6579-0254-4925-8385-aa086952e3e4",
        "colab": {
          "base_uri": "https://localhost:8080/",
          "height": 206
        }
      },
      "source": [
        "AAPL.head()"
      ],
      "execution_count": 0,
      "outputs": [
        {
          "output_type": "execute_result",
          "data": {
            "text/html": [
              "<div>\n",
              "<style scoped>\n",
              "    .dataframe tbody tr th:only-of-type {\n",
              "        vertical-align: middle;\n",
              "    }\n",
              "\n",
              "    .dataframe tbody tr th {\n",
              "        vertical-align: top;\n",
              "    }\n",
              "\n",
              "    .dataframe thead th {\n",
              "        text-align: right;\n",
              "    }\n",
              "</style>\n",
              "<table border=\"1\" class=\"dataframe\">\n",
              "  <thead>\n",
              "    <tr style=\"text-align: right;\">\n",
              "      <th></th>\n",
              "      <th>Date</th>\n",
              "      <th>Open</th>\n",
              "      <th>High</th>\n",
              "      <th>Low</th>\n",
              "      <th>Close</th>\n",
              "      <th>Adj Close</th>\n",
              "      <th>Volume</th>\n",
              "    </tr>\n",
              "  </thead>\n",
              "  <tbody>\n",
              "    <tr>\n",
              "      <th>0</th>\n",
              "      <td>2019-05-06</td>\n",
              "      <td>204.289993</td>\n",
              "      <td>208.839996</td>\n",
              "      <td>203.500000</td>\n",
              "      <td>208.479996</td>\n",
              "      <td>205.786469</td>\n",
              "      <td>32443100</td>\n",
              "    </tr>\n",
              "    <tr>\n",
              "      <th>1</th>\n",
              "      <td>2019-05-07</td>\n",
              "      <td>205.880005</td>\n",
              "      <td>207.419998</td>\n",
              "      <td>200.830002</td>\n",
              "      <td>202.860001</td>\n",
              "      <td>200.239075</td>\n",
              "      <td>38763700</td>\n",
              "    </tr>\n",
              "    <tr>\n",
              "      <th>2</th>\n",
              "      <td>2019-05-08</td>\n",
              "      <td>201.899994</td>\n",
              "      <td>205.339996</td>\n",
              "      <td>201.750000</td>\n",
              "      <td>202.899994</td>\n",
              "      <td>200.278534</td>\n",
              "      <td>26339500</td>\n",
              "    </tr>\n",
              "    <tr>\n",
              "      <th>3</th>\n",
              "      <td>2019-05-09</td>\n",
              "      <td>200.399994</td>\n",
              "      <td>201.679993</td>\n",
              "      <td>196.660004</td>\n",
              "      <td>200.720001</td>\n",
              "      <td>198.126709</td>\n",
              "      <td>34908600</td>\n",
              "    </tr>\n",
              "    <tr>\n",
              "      <th>4</th>\n",
              "      <td>2019-05-10</td>\n",
              "      <td>197.419998</td>\n",
              "      <td>198.850006</td>\n",
              "      <td>192.770004</td>\n",
              "      <td>197.179993</td>\n",
              "      <td>195.381973</td>\n",
              "      <td>41208700</td>\n",
              "    </tr>\n",
              "  </tbody>\n",
              "</table>\n",
              "</div>"
            ],
            "text/plain": [
              "         Date        Open        High  ...       Close   Adj Close    Volume\n",
              "0  2019-05-06  204.289993  208.839996  ...  208.479996  205.786469  32443100\n",
              "1  2019-05-07  205.880005  207.419998  ...  202.860001  200.239075  38763700\n",
              "2  2019-05-08  201.899994  205.339996  ...  202.899994  200.278534  26339500\n",
              "3  2019-05-09  200.399994  201.679993  ...  200.720001  198.126709  34908600\n",
              "4  2019-05-10  197.419998  198.850006  ...  197.179993  195.381973  41208700\n",
              "\n",
              "[5 rows x 7 columns]"
            ]
          },
          "metadata": {
            "tags": []
          },
          "execution_count": 7
        }
      ]
    },
    {
      "cell_type": "code",
      "metadata": {
        "id": "HcIRinfll_GY",
        "colab_type": "code",
        "outputId": "b3278380-fd51-48ec-8348-2fb015e074f2",
        "colab": {
          "base_uri": "https://localhost:8080/",
          "height": 36
        }
      },
      "source": [
        "AAPL.shape"
      ],
      "execution_count": 0,
      "outputs": [
        {
          "output_type": "execute_result",
          "data": {
            "text/plain": [
              "(251, 7)"
            ]
          },
          "metadata": {
            "tags": []
          },
          "execution_count": 8
        }
      ]
    },
    {
      "cell_type": "code",
      "metadata": {
        "id": "Td9KobE7mGcu",
        "colab_type": "code",
        "outputId": "d44f3000-3c0c-4841-a35e-efb744cbdea4",
        "colab": {
          "base_uri": "https://localhost:8080/",
          "height": 36
        }
      },
      "source": [
        "AAPL.index"
      ],
      "execution_count": 0,
      "outputs": [
        {
          "output_type": "execute_result",
          "data": {
            "text/plain": [
              "RangeIndex(start=0, stop=251, step=1)"
            ]
          },
          "metadata": {
            "tags": []
          },
          "execution_count": 9
        }
      ]
    },
    {
      "cell_type": "code",
      "metadata": {
        "id": "SkunEYaZmH9p",
        "colab_type": "code",
        "outputId": "b0a3e800-8641-4e72-b4db-1d424a0c1f8c",
        "colab": {
          "base_uri": "https://localhost:8080/",
          "height": 36
        }
      },
      "source": [
        "AAPL.columns"
      ],
      "execution_count": 0,
      "outputs": [
        {
          "output_type": "execute_result",
          "data": {
            "text/plain": [
              "Index(['Date', 'Open', 'High', 'Low', 'Close', 'Adj Close', 'Volume'], dtype='object')"
            ]
          },
          "metadata": {
            "tags": []
          },
          "execution_count": 10
        }
      ]
    },
    {
      "cell_type": "code",
      "metadata": {
        "id": "EyRnUdMVmJ7K",
        "colab_type": "code",
        "outputId": "f2339a5d-3716-4142-94da-733b18d47082",
        "colab": {
          "base_uri": "https://localhost:8080/",
          "height": 288
        }
      },
      "source": [
        "AAPL.info"
      ],
      "execution_count": 0,
      "outputs": [
        {
          "output_type": "execute_result",
          "data": {
            "text/plain": [
              "<bound method DataFrame.info of            Date        Open        High  ...       Close   Adj Close    Volume\n",
              "0    2019-05-06  204.289993  208.839996  ...  208.479996  205.786469  32443100\n",
              "1    2019-05-07  205.880005  207.419998  ...  202.860001  200.239075  38763700\n",
              "2    2019-05-08  201.899994  205.339996  ...  202.899994  200.278534  26339500\n",
              "3    2019-05-09  200.399994  201.679993  ...  200.720001  198.126709  34908600\n",
              "4    2019-05-10  197.419998  198.850006  ...  197.179993  195.381973  41208700\n",
              "..          ...         ...         ...  ...         ...         ...       ...\n",
              "246  2020-04-27  281.799988  284.540009  ...  283.170013  283.170013  29271900\n",
              "247  2020-04-28  285.079987  285.829987  ...  278.579987  278.579987  28001200\n",
              "248  2020-04-29  284.730011  289.670013  ...  287.730011  287.730011  34320200\n",
              "249  2020-04-30  289.959991  294.529999  ...  293.799988  293.799988  45766000\n",
              "250  2020-05-01  286.250000  299.000000  ...  289.070007  289.070007  60095200\n",
              "\n",
              "[251 rows x 7 columns]>"
            ]
          },
          "metadata": {
            "tags": []
          },
          "execution_count": 11
        }
      ]
    },
    {
      "cell_type": "markdown",
      "metadata": {
        "id": "JosRU6z9mUS5",
        "colab_type": "text"
      },
      "source": [
        "HOW TO CREATE DATA FRAME WITH DICTIONARY"
      ]
    },
    {
      "cell_type": "code",
      "metadata": {
        "id": "w24Pstx9mMvq",
        "colab_type": "code",
        "colab": {}
      },
      "source": [
        "data = {\"days_in_a_week\" : ['Sun','Mon','Tue'], 'City' : ['Kolkata','Delhi','Mumbai'], 'Online_Visitor' : [139,140,141], 'Sign' : [10,11,12]}"
      ],
      "execution_count": 0,
      "outputs": []
    },
    {
      "cell_type": "code",
      "metadata": {
        "id": "U5BQWOjunD1M",
        "colab_type": "code",
        "outputId": "fde4a19b-76f0-4247-ed6f-b560ad3aea40",
        "colab": {
          "base_uri": "https://localhost:8080/",
          "height": 94
        }
      },
      "source": [
        "data"
      ],
      "execution_count": 0,
      "outputs": [
        {
          "output_type": "execute_result",
          "data": {
            "text/plain": [
              "{'City': ['Kolkata', 'Delhi', 'Mumbai'],\n",
              " 'Online_Visitor': [139, 140, 141],\n",
              " 'Sign': [10, 11, 12],\n",
              " 'days_in_a_week': ['Sun', 'Mon', 'Tue']}"
            ]
          },
          "metadata": {
            "tags": []
          },
          "execution_count": 14
        }
      ]
    },
    {
      "cell_type": "code",
      "metadata": {
        "id": "enBsjnJtnK5o",
        "colab_type": "code",
        "colab": {}
      },
      "source": [
        "users_data = pd.DataFrame(data)"
      ],
      "execution_count": 0,
      "outputs": []
    },
    {
      "cell_type": "code",
      "metadata": {
        "id": "xPs8KA7HnSPH",
        "colab_type": "code",
        "outputId": "b26a64b5-fc4c-49b8-fa6a-2ea248b69708",
        "colab": {
          "base_uri": "https://localhost:8080/",
          "height": 94
        }
      },
      "source": [
        "print(users_data)"
      ],
      "execution_count": 0,
      "outputs": [
        {
          "output_type": "stream",
          "text": [
            "  days_in_a_week     City  Online_Visitor  Sign\n",
            "0            Sun  Kolkata             139    10\n",
            "1            Mon    Delhi             140    11\n",
            "2            Tue   Mumbai             141    12\n"
          ],
          "name": "stdout"
        }
      ]
    },
    {
      "cell_type": "code",
      "metadata": {
        "id": "Mow9-ehLnUT1",
        "colab_type": "code",
        "outputId": "936ae8dc-1bfa-4128-815a-9724204e70cb",
        "colab": {
          "base_uri": "https://localhost:8080/",
          "height": 143
        }
      },
      "source": [
        "users_data"
      ],
      "execution_count": 0,
      "outputs": [
        {
          "output_type": "execute_result",
          "data": {
            "text/html": [
              "<div>\n",
              "<style scoped>\n",
              "    .dataframe tbody tr th:only-of-type {\n",
              "        vertical-align: middle;\n",
              "    }\n",
              "\n",
              "    .dataframe tbody tr th {\n",
              "        vertical-align: top;\n",
              "    }\n",
              "\n",
              "    .dataframe thead th {\n",
              "        text-align: right;\n",
              "    }\n",
              "</style>\n",
              "<table border=\"1\" class=\"dataframe\">\n",
              "  <thead>\n",
              "    <tr style=\"text-align: right;\">\n",
              "      <th></th>\n",
              "      <th>days_in_a_week</th>\n",
              "      <th>City</th>\n",
              "      <th>Online_Visitor</th>\n",
              "      <th>Sign</th>\n",
              "    </tr>\n",
              "  </thead>\n",
              "  <tbody>\n",
              "    <tr>\n",
              "      <th>0</th>\n",
              "      <td>Sun</td>\n",
              "      <td>Kolkata</td>\n",
              "      <td>139</td>\n",
              "      <td>10</td>\n",
              "    </tr>\n",
              "    <tr>\n",
              "      <th>1</th>\n",
              "      <td>Mon</td>\n",
              "      <td>Delhi</td>\n",
              "      <td>140</td>\n",
              "      <td>11</td>\n",
              "    </tr>\n",
              "    <tr>\n",
              "      <th>2</th>\n",
              "      <td>Tue</td>\n",
              "      <td>Mumbai</td>\n",
              "      <td>141</td>\n",
              "      <td>12</td>\n",
              "    </tr>\n",
              "  </tbody>\n",
              "</table>\n",
              "</div>"
            ],
            "text/plain": [
              "  days_in_a_week     City  Online_Visitor  Sign\n",
              "0            Sun  Kolkata             139    10\n",
              "1            Mon    Delhi             140    11\n",
              "2            Tue   Mumbai             141    12"
            ]
          },
          "metadata": {
            "tags": []
          },
          "execution_count": 17
        }
      ]
    },
    {
      "cell_type": "code",
      "metadata": {
        "id": "aAXVUXhUnZLC",
        "colab_type": "code",
        "colab": {}
      },
      "source": [
        "Cities=['A','B','C']\n",
        "Signups = [10,11,12]\n",
        "OnlineVisitors = [139,140,141]\n",
        "Weekday = ['Sun','Mon','Tues']\n",
        "list_label = ['Cities','Signups','OnlineVisitors','Weekday']\n",
        "list_cols = [Cities, Signups, OnlineVisitors, Weekday]\n",
        "zipped = list(zip(list_label,list_cols))"
      ],
      "execution_count": 0,
      "outputs": []
    },
    {
      "cell_type": "code",
      "metadata": {
        "id": "otvfbQeVohIM",
        "colab_type": "code",
        "outputId": "4c1264ad-7fe9-4d3a-d72f-81fd7eb2cebc",
        "colab": {
          "base_uri": "https://localhost:8080/",
          "height": 94
        }
      },
      "source": [
        "data = dict(zipped)\n",
        "users = pd.DataFrame(data)\n",
        "print(users)"
      ],
      "execution_count": 0,
      "outputs": [
        {
          "output_type": "stream",
          "text": [
            "  Cities  Signups  OnlineVisitors Weekday\n",
            "0      A       10             139     Sun\n",
            "1      B       11             140     Mon\n",
            "2      C       12             141    Tues\n"
          ],
          "name": "stdout"
        }
      ]
    },
    {
      "cell_type": "markdown",
      "metadata": {
        "id": "2ix0CD3lo52c",
        "colab_type": "text"
      },
      "source": [
        "BROADCASTING CONCEPT"
      ]
    },
    {
      "cell_type": "code",
      "metadata": {
        "id": "VfaCCS0xoyek",
        "colab_type": "code",
        "colab": {}
      },
      "source": [
        "users['Payment']=0 #Broadcasts 0 to entire column"
      ],
      "execution_count": 0,
      "outputs": []
    },
    {
      "cell_type": "code",
      "metadata": {
        "id": "JS4U-JaxpI34",
        "colab_type": "code",
        "outputId": "24db9ca1-2929-4811-9508-7b37f6f70f24",
        "colab": {
          "base_uri": "https://localhost:8080/",
          "height": 94
        }
      },
      "source": [
        "print(users)"
      ],
      "execution_count": 0,
      "outputs": [
        {
          "output_type": "stream",
          "text": [
            "  Cities  Signups  OnlineVisitors Weekday  Payment\n",
            "0      A       10             139     Sun        0\n",
            "1      B       11             140     Mon        0\n",
            "2      C       12             141    Tues        0\n"
          ],
          "name": "stdout"
        }
      ]
    },
    {
      "cell_type": "markdown",
      "metadata": {
        "id": "OQWr6Z6ypTxf",
        "colab_type": "text"
      },
      "source": [
        "BROADCASTING WITH DICT"
      ]
    },
    {
      "cell_type": "code",
      "metadata": {
        "id": "6DXjrZFupKGp",
        "colab_type": "code",
        "colab": {}
      },
      "source": [
        "height = [56.5,57,57.5,58,58.5]"
      ],
      "execution_count": 0,
      "outputs": []
    },
    {
      "cell_type": "code",
      "metadata": {
        "id": "v_S7a3V_pb3n",
        "colab_type": "code",
        "colab": {}
      },
      "source": [
        "data = {'Height':height,'Sex':'Male'}\n",
        "result = pd.DataFrame(data)"
      ],
      "execution_count": 0,
      "outputs": []
    },
    {
      "cell_type": "code",
      "metadata": {
        "id": "GhsufUh9pv1e",
        "colab_type": "code",
        "outputId": "b76ad269-3bf0-432a-832e-eff67dc79cf4",
        "colab": {
          "base_uri": "https://localhost:8080/",
          "height": 133
        }
      },
      "source": [
        "print(result)"
      ],
      "execution_count": 0,
      "outputs": [
        {
          "output_type": "stream",
          "text": [
            "   Height   Sex\n",
            "0    56.5  Male\n",
            "1    57.0  Male\n",
            "2    57.5  Male\n",
            "3    58.0  Male\n",
            "4    58.5  Male\n"
          ],
          "name": "stdout"
        }
      ]
    },
    {
      "cell_type": "markdown",
      "metadata": {
        "id": "DcvKnt0NqV5f",
        "colab_type": "text"
      },
      "source": [
        "INDEX & COLUMNS"
      ]
    },
    {
      "cell_type": "code",
      "metadata": {
        "id": "06p-pdVGpxol",
        "colab_type": "code",
        "colab": {}
      },
      "source": [
        "result.columns=['Heights(In)','Sex']\n",
        "result.index=['A','B','C','D','E']"
      ],
      "execution_count": 0,
      "outputs": []
    },
    {
      "cell_type": "code",
      "metadata": {
        "id": "0jJ591xRqorj",
        "colab_type": "code",
        "outputId": "44f6bac7-bebc-45dc-859d-249cc0019ecf",
        "colab": {
          "base_uri": "https://localhost:8080/",
          "height": 133
        }
      },
      "source": [
        "print(result)"
      ],
      "execution_count": 0,
      "outputs": [
        {
          "output_type": "stream",
          "text": [
            "   Heights(In)   Sex\n",
            "A         56.5  Male\n",
            "B         57.0  Male\n",
            "C         57.5  Male\n",
            "D         58.0  Male\n",
            "E         58.5  Male\n"
          ],
          "name": "stdout"
        }
      ]
    },
    {
      "cell_type": "code",
      "metadata": {
        "id": "A2fdl2wgqqZa",
        "colab_type": "code",
        "outputId": "c1177749-196a-4a8e-9a1b-baaa710e0440",
        "colab": {
          "resources": {
            "http://localhost:8080/nbextensions/google.colab/files.js": {
              "data": "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",
              "ok": true,
              "headers": [
                [
                  "content-type",
                  "application/javascript"
                ]
              ],
              "status": 200,
              "status_text": "OK"
            }
          },
          "base_uri": "https://localhost:8080/",
          "height": 84
        }
      },
      "source": [
        "from google.colab import files\n",
        "uploaded = files.upload()"
      ],
      "execution_count": 0,
      "outputs": [
        {
          "output_type": "display_data",
          "data": {
            "text/html": [
              "\n",
              "     <input type=\"file\" id=\"files-c89269a4-6bf4-418b-9592-339222749304\" name=\"files[]\" multiple disabled />\n",
              "     <output id=\"result-c89269a4-6bf4-418b-9592-339222749304\">\n",
              "      Upload widget is only available when the cell has been executed in the\n",
              "      current browser session. Please rerun this cell to enable.\n",
              "      </output>\n",
              "      <script src=\"/nbextensions/google.colab/files.js\"></script> "
            ],
            "text/plain": [
              "<IPython.core.display.HTML object>"
            ]
          },
          "metadata": {
            "tags": []
          }
        },
        {
          "output_type": "stream",
          "text": [
            "Saving ISSN_D_tot.csv to ISSN_D_tot.csv\n"
          ],
          "name": "stdout"
        }
      ]
    },
    {
      "cell_type": "code",
      "metadata": {
        "id": "v9g8RstGrJGX",
        "colab_type": "code",
        "colab": {}
      },
      "source": [
        "import pandas as pd\n",
        "issnd = pd.read_csv('ISSN_D_tot.csv')"
      ],
      "execution_count": 0,
      "outputs": []
    },
    {
      "cell_type": "code",
      "metadata": {
        "id": "yYoK6JH5riLQ",
        "colab_type": "code",
        "outputId": "3ced7e73-0072-4f39-e1d7-0e001ca5d0bf",
        "colab": {
          "base_uri": "https://localhost:8080/",
          "height": 424
        }
      },
      "source": [
        "issnd"
      ],
      "execution_count": 0,
      "outputs": [
        {
          "output_type": "execute_result",
          "data": {
            "text/html": [
              "<div>\n",
              "<style scoped>\n",
              "    .dataframe tbody tr th:only-of-type {\n",
              "        vertical-align: middle;\n",
              "    }\n",
              "\n",
              "    .dataframe tbody tr th {\n",
              "        vertical-align: top;\n",
              "    }\n",
              "\n",
              "    .dataframe thead th {\n",
              "        text-align: right;\n",
              "    }\n",
              "</style>\n",
              "<table border=\"1\" class=\"dataframe\">\n",
              "  <thead>\n",
              "    <tr style=\"text-align: right;\">\n",
              "      <th></th>\n",
              "      <th>1818</th>\n",
              "      <th>01</th>\n",
              "      <th>01.1</th>\n",
              "      <th>1818.004</th>\n",
              "      <th>-1</th>\n",
              "      <th>1</th>\n",
              "    </tr>\n",
              "  </thead>\n",
              "  <tbody>\n",
              "    <tr>\n",
              "      <th>0</th>\n",
              "      <td>1818</td>\n",
              "      <td>1</td>\n",
              "      <td>2</td>\n",
              "      <td>1818.007</td>\n",
              "      <td>-1</td>\n",
              "      <td>1</td>\n",
              "    </tr>\n",
              "    <tr>\n",
              "      <th>1</th>\n",
              "      <td>1818</td>\n",
              "      <td>1</td>\n",
              "      <td>3</td>\n",
              "      <td>1818.010</td>\n",
              "      <td>-1</td>\n",
              "      <td>1</td>\n",
              "    </tr>\n",
              "    <tr>\n",
              "      <th>2</th>\n",
              "      <td>1818</td>\n",
              "      <td>1</td>\n",
              "      <td>4</td>\n",
              "      <td>1818.012</td>\n",
              "      <td>-1</td>\n",
              "      <td>1</td>\n",
              "    </tr>\n",
              "    <tr>\n",
              "      <th>3</th>\n",
              "      <td>1818</td>\n",
              "      <td>1</td>\n",
              "      <td>5</td>\n",
              "      <td>1818.015</td>\n",
              "      <td>-1</td>\n",
              "      <td>1</td>\n",
              "    </tr>\n",
              "    <tr>\n",
              "      <th>4</th>\n",
              "      <td>1818</td>\n",
              "      <td>1</td>\n",
              "      <td>6</td>\n",
              "      <td>1818.018</td>\n",
              "      <td>-1</td>\n",
              "      <td>1</td>\n",
              "    </tr>\n",
              "    <tr>\n",
              "      <th>...</th>\n",
              "      <td>...</td>\n",
              "      <td>...</td>\n",
              "      <td>...</td>\n",
              "      <td>...</td>\n",
              "      <td>...</td>\n",
              "      <td>...</td>\n",
              "    </tr>\n",
              "    <tr>\n",
              "      <th>72098</th>\n",
              "      <td>2015</td>\n",
              "      <td>5</td>\n",
              "      <td>27</td>\n",
              "      <td>2015.400</td>\n",
              "      <td>9</td>\n",
              "      <td>0</td>\n",
              "    </tr>\n",
              "    <tr>\n",
              "      <th>72099</th>\n",
              "      <td>2015</td>\n",
              "      <td>5</td>\n",
              "      <td>28</td>\n",
              "      <td>2015.403</td>\n",
              "      <td>8</td>\n",
              "      <td>0</td>\n",
              "    </tr>\n",
              "    <tr>\n",
              "      <th>72100</th>\n",
              "      <td>2015</td>\n",
              "      <td>5</td>\n",
              "      <td>29</td>\n",
              "      <td>2015.406</td>\n",
              "      <td>22</td>\n",
              "      <td>0</td>\n",
              "    </tr>\n",
              "    <tr>\n",
              "      <th>72101</th>\n",
              "      <td>2015</td>\n",
              "      <td>5</td>\n",
              "      <td>30</td>\n",
              "      <td>2015.409</td>\n",
              "      <td>19</td>\n",
              "      <td>0</td>\n",
              "    </tr>\n",
              "    <tr>\n",
              "      <th>72102</th>\n",
              "      <td>2015</td>\n",
              "      <td>5</td>\n",
              "      <td>31</td>\n",
              "      <td>2015.411</td>\n",
              "      <td>17</td>\n",
              "      <td>0</td>\n",
              "    </tr>\n",
              "  </tbody>\n",
              "</table>\n",
              "<p>72103 rows × 6 columns</p>\n",
              "</div>"
            ],
            "text/plain": [
              "       1818  01  01.1  1818.004   -1  1\n",
              "0      1818   1     2  1818.007   -1  1\n",
              "1      1818   1     3  1818.010   -1  1\n",
              "2      1818   1     4  1818.012   -1  1\n",
              "3      1818   1     5  1818.015   -1  1\n",
              "4      1818   1     6  1818.018   -1  1\n",
              "...     ...  ..   ...       ...  ... ..\n",
              "72098  2015   5    27  2015.400    9  0\n",
              "72099  2015   5    28  2015.403    8  0\n",
              "72100  2015   5    29  2015.406   22  0\n",
              "72101  2015   5    30  2015.409   19  0\n",
              "72102  2015   5    31  2015.411   17  0\n",
              "\n",
              "[72103 rows x 6 columns]"
            ]
          },
          "metadata": {
            "tags": []
          },
          "execution_count": 30
        }
      ]
    },
    {
      "cell_type": "code",
      "metadata": {
        "id": "yGNI8sKnrjNx",
        "colab_type": "code",
        "outputId": "157e9586-2905-45d2-bda8-94d23302ae9b",
        "colab": {
          "base_uri": "https://localhost:8080/",
          "height": 269
        }
      },
      "source": [
        "issnd.info()"
      ],
      "execution_count": 0,
      "outputs": [
        {
          "output_type": "stream",
          "text": [
            "<class 'pandas.core.frame.DataFrame'>\n",
            "RangeIndex: 72103 entries, 0 to 72102\n",
            "Data columns (total 6 columns):\n",
            " #   Column    Non-Null Count  Dtype  \n",
            "---  ------    --------------  -----  \n",
            " 0   1818      72103 non-null  int64  \n",
            " 1   01        72103 non-null  int64  \n",
            " 2   01.1      72103 non-null  int64  \n",
            " 3   1818.004  72103 non-null  float64\n",
            " 4    -1       72103 non-null  int64  \n",
            " 5   1         72103 non-null  int64  \n",
            "dtypes: float64(1), int64(5)\n",
            "memory usage: 3.3 MB\n"
          ],
          "name": "stdout"
        }
      ]
    },
    {
      "cell_type": "code",
      "metadata": {
        "id": "QCImY2WAr5gJ",
        "colab_type": "code",
        "outputId": "6b402a3e-a6cb-4f64-fbf6-63e4692b0448",
        "colab": {
          "base_uri": "https://localhost:8080/",
          "height": 677
        }
      },
      "source": [
        "issnd.head(20)"
      ],
      "execution_count": 0,
      "outputs": [
        {
          "output_type": "execute_result",
          "data": {
            "text/html": [
              "<div>\n",
              "<style scoped>\n",
              "    .dataframe tbody tr th:only-of-type {\n",
              "        vertical-align: middle;\n",
              "    }\n",
              "\n",
              "    .dataframe tbody tr th {\n",
              "        vertical-align: top;\n",
              "    }\n",
              "\n",
              "    .dataframe thead th {\n",
              "        text-align: right;\n",
              "    }\n",
              "</style>\n",
              "<table border=\"1\" class=\"dataframe\">\n",
              "  <thead>\n",
              "    <tr style=\"text-align: right;\">\n",
              "      <th></th>\n",
              "      <th>1818</th>\n",
              "      <th>01</th>\n",
              "      <th>01.1</th>\n",
              "      <th>1818.004</th>\n",
              "      <th>-1</th>\n",
              "      <th>1</th>\n",
              "    </tr>\n",
              "  </thead>\n",
              "  <tbody>\n",
              "    <tr>\n",
              "      <th>0</th>\n",
              "      <td>1818</td>\n",
              "      <td>1</td>\n",
              "      <td>2</td>\n",
              "      <td>1818.007</td>\n",
              "      <td>-1</td>\n",
              "      <td>1</td>\n",
              "    </tr>\n",
              "    <tr>\n",
              "      <th>1</th>\n",
              "      <td>1818</td>\n",
              "      <td>1</td>\n",
              "      <td>3</td>\n",
              "      <td>1818.010</td>\n",
              "      <td>-1</td>\n",
              "      <td>1</td>\n",
              "    </tr>\n",
              "    <tr>\n",
              "      <th>2</th>\n",
              "      <td>1818</td>\n",
              "      <td>1</td>\n",
              "      <td>4</td>\n",
              "      <td>1818.012</td>\n",
              "      <td>-1</td>\n",
              "      <td>1</td>\n",
              "    </tr>\n",
              "    <tr>\n",
              "      <th>3</th>\n",
              "      <td>1818</td>\n",
              "      <td>1</td>\n",
              "      <td>5</td>\n",
              "      <td>1818.015</td>\n",
              "      <td>-1</td>\n",
              "      <td>1</td>\n",
              "    </tr>\n",
              "    <tr>\n",
              "      <th>4</th>\n",
              "      <td>1818</td>\n",
              "      <td>1</td>\n",
              "      <td>6</td>\n",
              "      <td>1818.018</td>\n",
              "      <td>-1</td>\n",
              "      <td>1</td>\n",
              "    </tr>\n",
              "    <tr>\n",
              "      <th>5</th>\n",
              "      <td>1818</td>\n",
              "      <td>1</td>\n",
              "      <td>7</td>\n",
              "      <td>1818.021</td>\n",
              "      <td>-1</td>\n",
              "      <td>1</td>\n",
              "    </tr>\n",
              "    <tr>\n",
              "      <th>6</th>\n",
              "      <td>1818</td>\n",
              "      <td>1</td>\n",
              "      <td>8</td>\n",
              "      <td>1818.023</td>\n",
              "      <td>39</td>\n",
              "      <td>1</td>\n",
              "    </tr>\n",
              "    <tr>\n",
              "      <th>7</th>\n",
              "      <td>1818</td>\n",
              "      <td>1</td>\n",
              "      <td>9</td>\n",
              "      <td>1818.026</td>\n",
              "      <td>-1</td>\n",
              "      <td>1</td>\n",
              "    </tr>\n",
              "    <tr>\n",
              "      <th>8</th>\n",
              "      <td>1818</td>\n",
              "      <td>1</td>\n",
              "      <td>10</td>\n",
              "      <td>1818.029</td>\n",
              "      <td>-1</td>\n",
              "      <td>1</td>\n",
              "    </tr>\n",
              "    <tr>\n",
              "      <th>9</th>\n",
              "      <td>1818</td>\n",
              "      <td>1</td>\n",
              "      <td>11</td>\n",
              "      <td>1818.031</td>\n",
              "      <td>-1</td>\n",
              "      <td>1</td>\n",
              "    </tr>\n",
              "    <tr>\n",
              "      <th>10</th>\n",
              "      <td>1818</td>\n",
              "      <td>1</td>\n",
              "      <td>12</td>\n",
              "      <td>1818.034</td>\n",
              "      <td>-1</td>\n",
              "      <td>1</td>\n",
              "    </tr>\n",
              "    <tr>\n",
              "      <th>11</th>\n",
              "      <td>1818</td>\n",
              "      <td>1</td>\n",
              "      <td>13</td>\n",
              "      <td>1818.037</td>\n",
              "      <td>22</td>\n",
              "      <td>1</td>\n",
              "    </tr>\n",
              "    <tr>\n",
              "      <th>12</th>\n",
              "      <td>1818</td>\n",
              "      <td>1</td>\n",
              "      <td>14</td>\n",
              "      <td>1818.040</td>\n",
              "      <td>-1</td>\n",
              "      <td>1</td>\n",
              "    </tr>\n",
              "    <tr>\n",
              "      <th>13</th>\n",
              "      <td>1818</td>\n",
              "      <td>1</td>\n",
              "      <td>15</td>\n",
              "      <td>1818.042</td>\n",
              "      <td>-1</td>\n",
              "      <td>1</td>\n",
              "    </tr>\n",
              "    <tr>\n",
              "      <th>14</th>\n",
              "      <td>1818</td>\n",
              "      <td>1</td>\n",
              "      <td>16</td>\n",
              "      <td>1818.045</td>\n",
              "      <td>-1</td>\n",
              "      <td>1</td>\n",
              "    </tr>\n",
              "    <tr>\n",
              "      <th>15</th>\n",
              "      <td>1818</td>\n",
              "      <td>1</td>\n",
              "      <td>17</td>\n",
              "      <td>1818.048</td>\n",
              "      <td>46</td>\n",
              "      <td>1</td>\n",
              "    </tr>\n",
              "    <tr>\n",
              "      <th>16</th>\n",
              "      <td>1818</td>\n",
              "      <td>1</td>\n",
              "      <td>18</td>\n",
              "      <td>1818.051</td>\n",
              "      <td>59</td>\n",
              "      <td>1</td>\n",
              "    </tr>\n",
              "    <tr>\n",
              "      <th>17</th>\n",
              "      <td>1818</td>\n",
              "      <td>1</td>\n",
              "      <td>19</td>\n",
              "      <td>1818.053</td>\n",
              "      <td>63</td>\n",
              "      <td>1</td>\n",
              "    </tr>\n",
              "    <tr>\n",
              "      <th>18</th>\n",
              "      <td>1818</td>\n",
              "      <td>1</td>\n",
              "      <td>20</td>\n",
              "      <td>1818.056</td>\n",
              "      <td>-1</td>\n",
              "      <td>1</td>\n",
              "    </tr>\n",
              "    <tr>\n",
              "      <th>19</th>\n",
              "      <td>1818</td>\n",
              "      <td>1</td>\n",
              "      <td>21</td>\n",
              "      <td>1818.059</td>\n",
              "      <td>-1</td>\n",
              "      <td>1</td>\n",
              "    </tr>\n",
              "  </tbody>\n",
              "</table>\n",
              "</div>"
            ],
            "text/plain": [
              "    1818  01  01.1  1818.004   -1  1\n",
              "0   1818   1     2  1818.007   -1  1\n",
              "1   1818   1     3  1818.010   -1  1\n",
              "2   1818   1     4  1818.012   -1  1\n",
              "3   1818   1     5  1818.015   -1  1\n",
              "4   1818   1     6  1818.018   -1  1\n",
              "5   1818   1     7  1818.021   -1  1\n",
              "6   1818   1     8  1818.023   39  1\n",
              "7   1818   1     9  1818.026   -1  1\n",
              "8   1818   1    10  1818.029   -1  1\n",
              "9   1818   1    11  1818.031   -1  1\n",
              "10  1818   1    12  1818.034   -1  1\n",
              "11  1818   1    13  1818.037   22  1\n",
              "12  1818   1    14  1818.040   -1  1\n",
              "13  1818   1    15  1818.042   -1  1\n",
              "14  1818   1    16  1818.045   -1  1\n",
              "15  1818   1    17  1818.048   46  1\n",
              "16  1818   1    18  1818.051   59  1\n",
              "17  1818   1    19  1818.053   63  1\n",
              "18  1818   1    20  1818.056   -1  1\n",
              "19  1818   1    21  1818.059   -1  1"
            ]
          },
          "metadata": {
            "tags": []
          },
          "execution_count": 32
        }
      ]
    },
    {
      "cell_type": "markdown",
      "metadata": {
        "id": "Q7XpLSfYr-LQ",
        "colab_type": "text"
      },
      "source": [
        "PROBLEMS WITH THE DATASET\n",
        "COLUMN 0 - 2 : GREGORIAN DATE (YEAR, MONTH, DAY) [THIS SOLAR SYSTEM DATA]\n",
        "COLUMN 3 : DATE AS FRACTION AS YEAR\n",
        "COLUMN 4 : DAILY TOTAL SUNSPOT NUMBER\n",
        "COLUMN 5 : DEFINITIVE / PROVISIONAL INDICATOR \n",
        "MISSING VALUES IN COLUMN 4 "
      ]
    },
    {
      "cell_type": "code",
      "metadata": {
        "id": "JcLeFwinsndC",
        "colab_type": "code",
        "outputId": "a7d8cae6-03aa-40cd-c4cd-442c46c7b0f6",
        "colab": {
          "base_uri": "https://localhost:8080/",
          "height": 288
        }
      },
      "source": [
        "col_names = ['year','month','date','sunspots','definite']\n",
        "sunspots = pd.read_csv('ISSN_D_tot.csv',header = None, names = col_names, na_values='-1')\n",
        "print(sunspots)"
      ],
      "execution_count": 0,
      "outputs": [
        {
          "output_type": "stream",
          "text": [
            "      year  month      date  sunspots  definite\n",
            "1818     1      1  1818.004        -1         1\n",
            "1818     1      2  1818.007        -1         1\n",
            "1818     1      3  1818.010        -1         1\n",
            "1818     1      4  1818.012        -1         1\n",
            "1818     1      5  1818.015        -1         1\n",
            "...    ...    ...       ...       ...       ...\n",
            "2015     5     27  2015.400         9         0\n",
            "2015     5     28  2015.403         8         0\n",
            "2015     5     29  2015.406        22         0\n",
            "2015     5     30  2015.409        19         0\n",
            "2015     5     31  2015.411        17         0\n",
            "\n",
            "[72104 rows x 5 columns]\n"
          ],
          "name": "stdout"
        }
      ]
    },
    {
      "cell_type": "code",
      "metadata": {
        "id": "3jW1Dnq7r8OE",
        "colab_type": "code",
        "outputId": "ed1799e3-4737-40ba-80de-d8514a7766c0",
        "colab": {
          "base_uri": "https://localhost:8080/",
          "height": 206
        }
      },
      "source": [
        "sunspots.head(5)"
      ],
      "execution_count": 0,
      "outputs": [
        {
          "output_type": "execute_result",
          "data": {
            "text/html": [
              "<div>\n",
              "<style scoped>\n",
              "    .dataframe tbody tr th:only-of-type {\n",
              "        vertical-align: middle;\n",
              "    }\n",
              "\n",
              "    .dataframe tbody tr th {\n",
              "        vertical-align: top;\n",
              "    }\n",
              "\n",
              "    .dataframe thead th {\n",
              "        text-align: right;\n",
              "    }\n",
              "</style>\n",
              "<table border=\"1\" class=\"dataframe\">\n",
              "  <thead>\n",
              "    <tr style=\"text-align: right;\">\n",
              "      <th></th>\n",
              "      <th>year</th>\n",
              "      <th>month</th>\n",
              "      <th>date</th>\n",
              "      <th>sunspots</th>\n",
              "      <th>definite</th>\n",
              "    </tr>\n",
              "  </thead>\n",
              "  <tbody>\n",
              "    <tr>\n",
              "      <th>1818</th>\n",
              "      <td>1</td>\n",
              "      <td>1</td>\n",
              "      <td>1818.004</td>\n",
              "      <td>-1</td>\n",
              "      <td>1</td>\n",
              "    </tr>\n",
              "    <tr>\n",
              "      <th>1818</th>\n",
              "      <td>1</td>\n",
              "      <td>2</td>\n",
              "      <td>1818.007</td>\n",
              "      <td>-1</td>\n",
              "      <td>1</td>\n",
              "    </tr>\n",
              "    <tr>\n",
              "      <th>1818</th>\n",
              "      <td>1</td>\n",
              "      <td>3</td>\n",
              "      <td>1818.010</td>\n",
              "      <td>-1</td>\n",
              "      <td>1</td>\n",
              "    </tr>\n",
              "    <tr>\n",
              "      <th>1818</th>\n",
              "      <td>1</td>\n",
              "      <td>4</td>\n",
              "      <td>1818.012</td>\n",
              "      <td>-1</td>\n",
              "      <td>1</td>\n",
              "    </tr>\n",
              "    <tr>\n",
              "      <th>1818</th>\n",
              "      <td>1</td>\n",
              "      <td>5</td>\n",
              "      <td>1818.015</td>\n",
              "      <td>-1</td>\n",
              "      <td>1</td>\n",
              "    </tr>\n",
              "  </tbody>\n",
              "</table>\n",
              "</div>"
            ],
            "text/plain": [
              "      year  month      date  sunspots  definite\n",
              "1818     1      1  1818.004        -1         1\n",
              "1818     1      2  1818.007        -1         1\n",
              "1818     1      3  1818.010        -1         1\n",
              "1818     1      4  1818.012        -1         1\n",
              "1818     1      5  1818.015        -1         1"
            ]
          },
          "metadata": {
            "tags": []
          },
          "execution_count": 34
        }
      ]
    },
    {
      "cell_type": "code",
      "metadata": {
        "id": "0VYXRl8suQ51",
        "colab_type": "code",
        "outputId": "056a4b73-8ae0-4532-eba7-415b451b8cb7",
        "colab": {
          "base_uri": "https://localhost:8080/",
          "height": 249
        }
      },
      "source": [
        "sunspots.info()"
      ],
      "execution_count": 0,
      "outputs": [
        {
          "output_type": "stream",
          "text": [
            "<class 'pandas.core.frame.DataFrame'>\n",
            "Int64Index: 72104 entries, 1818 to 2015\n",
            "Data columns (total 5 columns):\n",
            " #   Column    Non-Null Count  Dtype  \n",
            "---  ------    --------------  -----  \n",
            " 0   year      72104 non-null  int64  \n",
            " 1   month     72104 non-null  int64  \n",
            " 2   date      72104 non-null  float64\n",
            " 3   sunspots  72104 non-null  int64  \n",
            " 4   definite  72104 non-null  int64  \n",
            "dtypes: float64(1), int64(4)\n",
            "memory usage: 3.3 MB\n"
          ],
          "name": "stdout"
        }
      ]
    },
    {
      "cell_type": "markdown",
      "metadata": {
        "id": "IKK0Z8ASu_ol",
        "colab_type": "text"
      },
      "source": [
        "BASIC PLOTTING"
      ]
    },
    {
      "cell_type": "code",
      "metadata": {
        "id": "Pu7DED9yuTVX",
        "colab_type": "code",
        "colab": {}
      },
      "source": [
        "import matplotlib.pyplot as plt\n"
      ],
      "execution_count": 0,
      "outputs": []
    },
    {
      "cell_type": "code",
      "metadata": {
        "id": "Pmo1HrRDuop5",
        "colab_type": "code",
        "outputId": "52b12e1b-e469-4573-b58e-3e8ba9344e50",
        "colab": {
          "base_uri": "https://localhost:8080/",
          "height": 288
        }
      },
      "source": [
        "AAPL.info"
      ],
      "execution_count": 0,
      "outputs": [
        {
          "output_type": "execute_result",
          "data": {
            "text/plain": [
              "<bound method DataFrame.info of            Date        Open        High  ...       Close   Adj Close    Volume\n",
              "0    2019-05-06  204.289993  208.839996  ...  208.479996  205.786469  32443100\n",
              "1    2019-05-07  205.880005  207.419998  ...  202.860001  200.239075  38763700\n",
              "2    2019-05-08  201.899994  205.339996  ...  202.899994  200.278534  26339500\n",
              "3    2019-05-09  200.399994  201.679993  ...  200.720001  198.126709  34908600\n",
              "4    2019-05-10  197.419998  198.850006  ...  197.179993  195.381973  41208700\n",
              "..          ...         ...         ...  ...         ...         ...       ...\n",
              "246  2020-04-27  281.799988  284.540009  ...  283.170013  283.170013  29271900\n",
              "247  2020-04-28  285.079987  285.829987  ...  278.579987  278.579987  28001200\n",
              "248  2020-04-29  284.730011  289.670013  ...  287.730011  287.730011  34320200\n",
              "249  2020-04-30  289.959991  294.529999  ...  293.799988  293.799988  45766000\n",
              "250  2020-05-01  286.250000  299.000000  ...  289.070007  289.070007  60095200\n",
              "\n",
              "[251 rows x 7 columns]>"
            ]
          },
          "metadata": {
            "tags": []
          },
          "execution_count": 39
        }
      ]
    },
    {
      "cell_type": "code",
      "metadata": {
        "id": "U43PBZEbvVh4",
        "colab_type": "code",
        "outputId": "ee3527ed-9efd-485d-8c6b-46ea621e12b6",
        "colab": {
          "base_uri": "https://localhost:8080/",
          "height": 288
        }
      },
      "source": [
        "AAPL.info()"
      ],
      "execution_count": 0,
      "outputs": [
        {
          "output_type": "stream",
          "text": [
            "<class 'pandas.core.frame.DataFrame'>\n",
            "RangeIndex: 251 entries, 0 to 250\n",
            "Data columns (total 7 columns):\n",
            " #   Column     Non-Null Count  Dtype  \n",
            "---  ------     --------------  -----  \n",
            " 0   Date       251 non-null    object \n",
            " 1   Open       251 non-null    float64\n",
            " 2   High       251 non-null    float64\n",
            " 3   Low        251 non-null    float64\n",
            " 4   Close      251 non-null    float64\n",
            " 5   Adj Close  251 non-null    float64\n",
            " 6   Volume     251 non-null    int64  \n",
            "dtypes: float64(5), int64(1), object(1)\n",
            "memory usage: 13.9+ KB\n"
          ],
          "name": "stdout"
        }
      ]
    },
    {
      "cell_type": "code",
      "metadata": {
        "id": "ooTiCugIvZiO",
        "colab_type": "code",
        "outputId": "9acd6d67-975b-4782-eca7-b0b52f830107",
        "colab": {
          "base_uri": "https://localhost:8080/",
          "height": 424
        }
      },
      "source": [
        "AAPL"
      ],
      "execution_count": 0,
      "outputs": [
        {
          "output_type": "execute_result",
          "data": {
            "text/html": [
              "<div>\n",
              "<style scoped>\n",
              "    .dataframe tbody tr th:only-of-type {\n",
              "        vertical-align: middle;\n",
              "    }\n",
              "\n",
              "    .dataframe tbody tr th {\n",
              "        vertical-align: top;\n",
              "    }\n",
              "\n",
              "    .dataframe thead th {\n",
              "        text-align: right;\n",
              "    }\n",
              "</style>\n",
              "<table border=\"1\" class=\"dataframe\">\n",
              "  <thead>\n",
              "    <tr style=\"text-align: right;\">\n",
              "      <th></th>\n",
              "      <th>Date</th>\n",
              "      <th>Open</th>\n",
              "      <th>High</th>\n",
              "      <th>Low</th>\n",
              "      <th>Close</th>\n",
              "      <th>Adj Close</th>\n",
              "      <th>Volume</th>\n",
              "    </tr>\n",
              "  </thead>\n",
              "  <tbody>\n",
              "    <tr>\n",
              "      <th>0</th>\n",
              "      <td>2019-05-06</td>\n",
              "      <td>204.289993</td>\n",
              "      <td>208.839996</td>\n",
              "      <td>203.500000</td>\n",
              "      <td>208.479996</td>\n",
              "      <td>205.786469</td>\n",
              "      <td>32443100</td>\n",
              "    </tr>\n",
              "    <tr>\n",
              "      <th>1</th>\n",
              "      <td>2019-05-07</td>\n",
              "      <td>205.880005</td>\n",
              "      <td>207.419998</td>\n",
              "      <td>200.830002</td>\n",
              "      <td>202.860001</td>\n",
              "      <td>200.239075</td>\n",
              "      <td>38763700</td>\n",
              "    </tr>\n",
              "    <tr>\n",
              "      <th>2</th>\n",
              "      <td>2019-05-08</td>\n",
              "      <td>201.899994</td>\n",
              "      <td>205.339996</td>\n",
              "      <td>201.750000</td>\n",
              "      <td>202.899994</td>\n",
              "      <td>200.278534</td>\n",
              "      <td>26339500</td>\n",
              "    </tr>\n",
              "    <tr>\n",
              "      <th>3</th>\n",
              "      <td>2019-05-09</td>\n",
              "      <td>200.399994</td>\n",
              "      <td>201.679993</td>\n",
              "      <td>196.660004</td>\n",
              "      <td>200.720001</td>\n",
              "      <td>198.126709</td>\n",
              "      <td>34908600</td>\n",
              "    </tr>\n",
              "    <tr>\n",
              "      <th>4</th>\n",
              "      <td>2019-05-10</td>\n",
              "      <td>197.419998</td>\n",
              "      <td>198.850006</td>\n",
              "      <td>192.770004</td>\n",
              "      <td>197.179993</td>\n",
              "      <td>195.381973</td>\n",
              "      <td>41208700</td>\n",
              "    </tr>\n",
              "    <tr>\n",
              "      <th>...</th>\n",
              "      <td>...</td>\n",
              "      <td>...</td>\n",
              "      <td>...</td>\n",
              "      <td>...</td>\n",
              "      <td>...</td>\n",
              "      <td>...</td>\n",
              "      <td>...</td>\n",
              "    </tr>\n",
              "    <tr>\n",
              "      <th>246</th>\n",
              "      <td>2020-04-27</td>\n",
              "      <td>281.799988</td>\n",
              "      <td>284.540009</td>\n",
              "      <td>279.950012</td>\n",
              "      <td>283.170013</td>\n",
              "      <td>283.170013</td>\n",
              "      <td>29271900</td>\n",
              "    </tr>\n",
              "    <tr>\n",
              "      <th>247</th>\n",
              "      <td>2020-04-28</td>\n",
              "      <td>285.079987</td>\n",
              "      <td>285.829987</td>\n",
              "      <td>278.200012</td>\n",
              "      <td>278.579987</td>\n",
              "      <td>278.579987</td>\n",
              "      <td>28001200</td>\n",
              "    </tr>\n",
              "    <tr>\n",
              "      <th>248</th>\n",
              "      <td>2020-04-29</td>\n",
              "      <td>284.730011</td>\n",
              "      <td>289.670013</td>\n",
              "      <td>283.890015</td>\n",
              "      <td>287.730011</td>\n",
              "      <td>287.730011</td>\n",
              "      <td>34320200</td>\n",
              "    </tr>\n",
              "    <tr>\n",
              "      <th>249</th>\n",
              "      <td>2020-04-30</td>\n",
              "      <td>289.959991</td>\n",
              "      <td>294.529999</td>\n",
              "      <td>288.350006</td>\n",
              "      <td>293.799988</td>\n",
              "      <td>293.799988</td>\n",
              "      <td>45766000</td>\n",
              "    </tr>\n",
              "    <tr>\n",
              "      <th>250</th>\n",
              "      <td>2020-05-01</td>\n",
              "      <td>286.250000</td>\n",
              "      <td>299.000000</td>\n",
              "      <td>285.850006</td>\n",
              "      <td>289.070007</td>\n",
              "      <td>289.070007</td>\n",
              "      <td>60095200</td>\n",
              "    </tr>\n",
              "  </tbody>\n",
              "</table>\n",
              "<p>251 rows × 7 columns</p>\n",
              "</div>"
            ],
            "text/plain": [
              "           Date        Open        High  ...       Close   Adj Close    Volume\n",
              "0    2019-05-06  204.289993  208.839996  ...  208.479996  205.786469  32443100\n",
              "1    2019-05-07  205.880005  207.419998  ...  202.860001  200.239075  38763700\n",
              "2    2019-05-08  201.899994  205.339996  ...  202.899994  200.278534  26339500\n",
              "3    2019-05-09  200.399994  201.679993  ...  200.720001  198.126709  34908600\n",
              "4    2019-05-10  197.419998  198.850006  ...  197.179993  195.381973  41208700\n",
              "..          ...         ...         ...  ...         ...         ...       ...\n",
              "246  2020-04-27  281.799988  284.540009  ...  283.170013  283.170013  29271900\n",
              "247  2020-04-28  285.079987  285.829987  ...  278.579987  278.579987  28001200\n",
              "248  2020-04-29  284.730011  289.670013  ...  287.730011  287.730011  34320200\n",
              "249  2020-04-30  289.959991  294.529999  ...  293.799988  293.799988  45766000\n",
              "250  2020-05-01  286.250000  299.000000  ...  289.070007  289.070007  60095200\n",
              "\n",
              "[251 rows x 7 columns]"
            ]
          },
          "metadata": {
            "tags": []
          },
          "execution_count": 41
        }
      ]
    },
    {
      "cell_type": "code",
      "metadata": {
        "id": "MTdTtXcCvcQC",
        "colab_type": "code",
        "colab": {}
      },
      "source": [
        "AAPL1 = pd.read_csv('AAPL.csv',index_col='Date',parse_dates=True)"
      ],
      "execution_count": 0,
      "outputs": []
    },
    {
      "cell_type": "code",
      "metadata": {
        "id": "a7T4OxF5v51K",
        "colab_type": "code",
        "outputId": "74612959-561f-4d7c-ef87-544dce38deb2",
        "colab": {
          "base_uri": "https://localhost:8080/",
          "height": 455
        }
      },
      "source": [
        "AAPL1"
      ],
      "execution_count": 0,
      "outputs": [
        {
          "output_type": "execute_result",
          "data": {
            "text/html": [
              "<div>\n",
              "<style scoped>\n",
              "    .dataframe tbody tr th:only-of-type {\n",
              "        vertical-align: middle;\n",
              "    }\n",
              "\n",
              "    .dataframe tbody tr th {\n",
              "        vertical-align: top;\n",
              "    }\n",
              "\n",
              "    .dataframe thead th {\n",
              "        text-align: right;\n",
              "    }\n",
              "</style>\n",
              "<table border=\"1\" class=\"dataframe\">\n",
              "  <thead>\n",
              "    <tr style=\"text-align: right;\">\n",
              "      <th></th>\n",
              "      <th>Open</th>\n",
              "      <th>High</th>\n",
              "      <th>Low</th>\n",
              "      <th>Close</th>\n",
              "      <th>Adj Close</th>\n",
              "      <th>Volume</th>\n",
              "    </tr>\n",
              "    <tr>\n",
              "      <th>Date</th>\n",
              "      <th></th>\n",
              "      <th></th>\n",
              "      <th></th>\n",
              "      <th></th>\n",
              "      <th></th>\n",
              "      <th></th>\n",
              "    </tr>\n",
              "  </thead>\n",
              "  <tbody>\n",
              "    <tr>\n",
              "      <th>2019-05-06</th>\n",
              "      <td>204.289993</td>\n",
              "      <td>208.839996</td>\n",
              "      <td>203.500000</td>\n",
              "      <td>208.479996</td>\n",
              "      <td>205.786469</td>\n",
              "      <td>32443100</td>\n",
              "    </tr>\n",
              "    <tr>\n",
              "      <th>2019-05-07</th>\n",
              "      <td>205.880005</td>\n",
              "      <td>207.419998</td>\n",
              "      <td>200.830002</td>\n",
              "      <td>202.860001</td>\n",
              "      <td>200.239075</td>\n",
              "      <td>38763700</td>\n",
              "    </tr>\n",
              "    <tr>\n",
              "      <th>2019-05-08</th>\n",
              "      <td>201.899994</td>\n",
              "      <td>205.339996</td>\n",
              "      <td>201.750000</td>\n",
              "      <td>202.899994</td>\n",
              "      <td>200.278534</td>\n",
              "      <td>26339500</td>\n",
              "    </tr>\n",
              "    <tr>\n",
              "      <th>2019-05-09</th>\n",
              "      <td>200.399994</td>\n",
              "      <td>201.679993</td>\n",
              "      <td>196.660004</td>\n",
              "      <td>200.720001</td>\n",
              "      <td>198.126709</td>\n",
              "      <td>34908600</td>\n",
              "    </tr>\n",
              "    <tr>\n",
              "      <th>2019-05-10</th>\n",
              "      <td>197.419998</td>\n",
              "      <td>198.850006</td>\n",
              "      <td>192.770004</td>\n",
              "      <td>197.179993</td>\n",
              "      <td>195.381973</td>\n",
              "      <td>41208700</td>\n",
              "    </tr>\n",
              "    <tr>\n",
              "      <th>...</th>\n",
              "      <td>...</td>\n",
              "      <td>...</td>\n",
              "      <td>...</td>\n",
              "      <td>...</td>\n",
              "      <td>...</td>\n",
              "      <td>...</td>\n",
              "    </tr>\n",
              "    <tr>\n",
              "      <th>2020-04-27</th>\n",
              "      <td>281.799988</td>\n",
              "      <td>284.540009</td>\n",
              "      <td>279.950012</td>\n",
              "      <td>283.170013</td>\n",
              "      <td>283.170013</td>\n",
              "      <td>29271900</td>\n",
              "    </tr>\n",
              "    <tr>\n",
              "      <th>2020-04-28</th>\n",
              "      <td>285.079987</td>\n",
              "      <td>285.829987</td>\n",
              "      <td>278.200012</td>\n",
              "      <td>278.579987</td>\n",
              "      <td>278.579987</td>\n",
              "      <td>28001200</td>\n",
              "    </tr>\n",
              "    <tr>\n",
              "      <th>2020-04-29</th>\n",
              "      <td>284.730011</td>\n",
              "      <td>289.670013</td>\n",
              "      <td>283.890015</td>\n",
              "      <td>287.730011</td>\n",
              "      <td>287.730011</td>\n",
              "      <td>34320200</td>\n",
              "    </tr>\n",
              "    <tr>\n",
              "      <th>2020-04-30</th>\n",
              "      <td>289.959991</td>\n",
              "      <td>294.529999</td>\n",
              "      <td>288.350006</td>\n",
              "      <td>293.799988</td>\n",
              "      <td>293.799988</td>\n",
              "      <td>45766000</td>\n",
              "    </tr>\n",
              "    <tr>\n",
              "      <th>2020-05-01</th>\n",
              "      <td>286.250000</td>\n",
              "      <td>299.000000</td>\n",
              "      <td>285.850006</td>\n",
              "      <td>289.070007</td>\n",
              "      <td>289.070007</td>\n",
              "      <td>60095200</td>\n",
              "    </tr>\n",
              "  </tbody>\n",
              "</table>\n",
              "<p>251 rows × 6 columns</p>\n",
              "</div>"
            ],
            "text/plain": [
              "                  Open        High  ...   Adj Close    Volume\n",
              "Date                                ...                      \n",
              "2019-05-06  204.289993  208.839996  ...  205.786469  32443100\n",
              "2019-05-07  205.880005  207.419998  ...  200.239075  38763700\n",
              "2019-05-08  201.899994  205.339996  ...  200.278534  26339500\n",
              "2019-05-09  200.399994  201.679993  ...  198.126709  34908600\n",
              "2019-05-10  197.419998  198.850006  ...  195.381973  41208700\n",
              "...                ...         ...  ...         ...       ...\n",
              "2020-04-27  281.799988  284.540009  ...  283.170013  29271900\n",
              "2020-04-28  285.079987  285.829987  ...  278.579987  28001200\n",
              "2020-04-29  284.730011  289.670013  ...  287.730011  34320200\n",
              "2020-04-30  289.959991  294.529999  ...  293.799988  45766000\n",
              "2020-05-01  286.250000  299.000000  ...  289.070007  60095200\n",
              "\n",
              "[251 rows x 6 columns]"
            ]
          },
          "metadata": {
            "tags": []
          },
          "execution_count": 44
        }
      ]
    },
    {
      "cell_type": "code",
      "metadata": {
        "id": "DQc5buAdv-7r",
        "colab_type": "code",
        "outputId": "af710450-4637-4ead-dec4-14e4d62385ac",
        "colab": {
          "base_uri": "https://localhost:8080/",
          "height": 36
        }
      },
      "source": [
        "close_arr = AAPL1['Close'].values\n",
        "type(close_arr)"
      ],
      "execution_count": 0,
      "outputs": [
        {
          "output_type": "execute_result",
          "data": {
            "text/plain": [
              "numpy.ndarray"
            ]
          },
          "metadata": {
            "tags": []
          },
          "execution_count": 45
        }
      ]
    },
    {
      "cell_type": "code",
      "metadata": {
        "id": "L9Skt1uwwX3W",
        "colab_type": "code",
        "outputId": "0adef288-ed61-4455-9304-e0ef0088b96c",
        "colab": {
          "base_uri": "https://localhost:8080/",
          "height": 284
        }
      },
      "source": [
        "plt.plot(close_arr)"
      ],
      "execution_count": 0,
      "outputs": [
        {
          "output_type": "execute_result",
          "data": {
            "text/plain": [
              "[<matplotlib.lines.Line2D at 0x7f3f498eac50>]"
            ]
          },
          "metadata": {
            "tags": []
          },
          "execution_count": 46
        },
        {
          "output_type": "display_data",
          "data": {
            "image/png": "[encoded data removed]",
            "text/plain": [
              "<Figure size 432x288 with 1 Axes>"
            ]
          },
          "metadata": {
            "tags": [],
            "needs_background": "light"
          }
        }
      ]
    },
    {
      "cell_type": "code",
      "metadata": {
        "id": "3udA6jzTwbNu",
        "colab_type": "code",
        "colab": {}
      },
      "source": [
        "close_series = AAPL1['Close']"
      ],
      "execution_count": 0,
      "outputs": []
    },
    {
      "cell_type": "code",
      "metadata": {
        "id": "s5cKRZmmxeek",
        "colab_type": "code",
        "outputId": "6c306048-a531-49cd-fb66-ec8440dc0949",
        "colab": {
          "base_uri": "https://localhost:8080/",
          "height": 284
        }
      },
      "source": [
        "plt.plot(close_series)"
      ],
      "execution_count": 0,
      "outputs": [
        {
          "output_type": "execute_result",
          "data": {
            "text/plain": [
              "[<matplotlib.lines.Line2D at 0x7f3f4942cfd0>]"
            ]
          },
          "metadata": {
            "tags": []
          },
          "execution_count": 48
        },
        {
          "output_type": "display_data",
          "data": {
            "image/png": "[encoded data removed]",
            "text/plain": [
              "<Figure size 432x288 with 1 Axes>"
            ]
          },
          "metadata": {
            "tags": [],
            "needs_background": "light"
          }
        }
      ]
    },
    {
      "cell_type": "code",
      "metadata": {
        "id": "jcutAMfSxkgG",
        "colab_type": "code",
        "outputId": "d5116707-3f17-4168-c3ab-f11e4c18ea25",
        "colab": {
          "base_uri": "https://localhost:8080/",
          "height": 296
        }
      },
      "source": [
        "close_series.plot()"
      ],
      "execution_count": 0,
      "outputs": [
        {
          "output_type": "execute_result",
          "data": {
            "text/plain": [
              "<matplotlib.axes._subplots.AxesSubplot at 0x7f3f493abcf8>"
            ]
          },
          "metadata": {
            "tags": []
          },
          "execution_count": 49
        },
        {
          "output_type": "display_data",
          "data": {
            "image/png": "[encoded data removed]",
            "text/plain": [
              "<Figure size 432x288 with 1 Axes>"
            ]
          },
          "metadata": {
            "tags": [],
            "needs_background": "light"
          }
        }
      ]
    },
    {
      "cell_type": "code",
      "metadata": {
        "id": "opLkmlNKx1uD",
        "colab_type": "code",
        "outputId": "ea2f2b89-4a86-4b97-9dcb-6f8319333ab1",
        "colab": {
          "base_uri": "https://localhost:8080/",
          "height": 307
        }
      },
      "source": [
        "  AAPL1.plot()"
      ],
      "execution_count": 0,
      "outputs": [
        {
          "output_type": "execute_result",
          "data": {
            "text/plain": [
              "<matplotlib.axes._subplots.AxesSubplot at 0x7f3f49335278>"
            ]
          },
          "metadata": {
            "tags": []
          },
          "execution_count": 50
        },
        {
          "output_type": "display_data",
          "data": {
            "image/png": "[encoded data removed]",
            "text/plain": [
              "<Figure size 432x288 with 1 Axes>"
            ]
          },
          "metadata": {
            "tags": [],
            "needs_background": "light"
          }
        }
      ]
    },
    {
      "cell_type": "code",
      "metadata": {
        "id": "LTSOOW27x-CP",
        "colab_type": "code",
        "outputId": "7319fa30-978b-4e41-aeae-ab60fec4bef7",
        "colab": {
          "base_uri": "https://localhost:8080/",
          "height": 277
        }
      },
      "source": [
        "AAPL1.plot()\n",
        "plt.yscale('log')\n",
        "plt.show()"
      ],
      "execution_count": 0,
      "outputs": [
        {
          "output_type": "display_data",
          "data": {
            "image/png": "[encoded data removed]",
            "text/plain": [
              "<Figure size 432x288 with 1 Axes>"
            ]
          },
          "metadata": {
            "tags": [],
            "needs_background": "light"
          }
        }
      ]
    },
    {
      "cell_type": "code",
      "metadata": {
        "id": "rfQMqIl5zS72",
        "colab_type": "code",
        "outputId": "cb0c61b7-8f91-46c7-9a8b-7681f4262798",
        "colab": {
          "base_uri": "https://localhost:8080/",
          "height": 288
        }
      },
      "source": [
        "sunspots.info"
      ],
      "execution_count": 0,
      "outputs": [
        {
          "output_type": "execute_result",
          "data": {
            "text/plain": [
              "<bound method DataFrame.info of       year  month      date  sunspots  definite\n",
              "1818     1      1  1818.004        -1         1\n",
              "1818     1      2  1818.007        -1         1\n",
              "1818     1      3  1818.010        -1         1\n",
              "1818     1      4  1818.012        -1         1\n",
              "1818     1      5  1818.015        -1         1\n",
              "...    ...    ...       ...       ...       ...\n",
              "2015     5     27  2015.400         9         0\n",
              "2015     5     28  2015.403         8         0\n",
              "2015     5     29  2015.406        22         0\n",
              "2015     5     30  2015.409        19         0\n",
              "2015     5     31  2015.411        17         0\n",
              "\n",
              "[72104 rows x 5 columns]>"
            ]
          },
          "metadata": {
            "tags": []
          },
          "execution_count": 55
        }
      ]
    },
    {
      "cell_type": "code",
      "metadata": {
        "id": "PCPCENUpzYNx",
        "colab_type": "code",
        "outputId": "afe5b7a3-6638-4465-fb50-afbbda04dcce",
        "colab": {
          "base_uri": "https://localhost:8080/",
          "height": 249
        }
      },
      "source": [
        "sunspots.info()"
      ],
      "execution_count": 0,
      "outputs": [
        {
          "output_type": "stream",
          "text": [
            "<class 'pandas.core.frame.DataFrame'>\n",
            "Int64Index: 72104 entries, 1818 to 2015\n",
            "Data columns (total 5 columns):\n",
            " #   Column    Non-Null Count  Dtype  \n",
            "---  ------    --------------  -----  \n",
            " 0   year      72104 non-null  int64  \n",
            " 1   month     72104 non-null  int64  \n",
            " 2   date      72104 non-null  float64\n",
            " 3   sunspots  72104 non-null  int64  \n",
            " 4   definite  72104 non-null  int64  \n",
            "dtypes: float64(1), int64(4)\n",
            "memory usage: 3.3 MB\n"
          ],
          "name": "stdout"
        }
      ]
    },
    {
      "cell_type": "code",
      "metadata": {
        "id": "kBs4N4dL0COD",
        "colab_type": "code",
        "colab": {}
      },
      "source": [
        "definite_arr = sunspots['definite'].values"
      ],
      "execution_count": 0,
      "outputs": []
    },
    {
      "cell_type": "code",
      "metadata": {
        "id": "sRZy77Gh0eAy",
        "colab_type": "code",
        "outputId": "fa05a702-f497-472e-f004-ae7f8c05c6d8",
        "colab": {
          "base_uri": "https://localhost:8080/",
          "height": 36
        }
      },
      "source": [
        "type(definite_arr)"
      ],
      "execution_count": 0,
      "outputs": [
        {
          "output_type": "execute_result",
          "data": {
            "text/plain": [
              "numpy.ndarray"
            ]
          },
          "metadata": {
            "tags": []
          },
          "execution_count": 58
        }
      ]
    },
    {
      "cell_type": "code",
      "metadata": {
        "id": "TbKU-Tht0fr9",
        "colab_type": "code",
        "outputId": "5b06be17-5471-431b-b443-e484e76ca32d",
        "colab": {
          "base_uri": "https://localhost:8080/",
          "height": 284
        }
      },
      "source": [
        "plt.plot(definite_arr)"
      ],
      "execution_count": 0,
      "outputs": [
        {
          "output_type": "execute_result",
          "data": {
            "text/plain": [
              "[<matplotlib.lines.Line2D at 0x7f3f48efa630>]"
            ]
          },
          "metadata": {
            "tags": []
          },
          "execution_count": 59
        },
        {
          "output_type": "display_data",
          "data": {
            "image/png": "[encoded data removed]",
            "text/plain": [
              "<Figure size 432x288 with 1 Axes>"
            ]
          },
          "metadata": {
            "tags": [],
            "needs_background": "light"
          }
        }
      ]
    },
    {
      "cell_type": "code",
      "metadata": {
        "id": "b5yT8M2U0jKb",
        "colab_type": "code",
        "colab": {}
      },
      "source": [
        "sunspots_arr = sunspots['sunspots'].values"
      ],
      "execution_count": 0,
      "outputs": []
    },
    {
      "cell_type": "code",
      "metadata": {
        "id": "PLL98bu90s7u",
        "colab_type": "code",
        "outputId": "59c7994e-d8b2-4474-9167-df0378b48d4c",
        "colab": {
          "base_uri": "https://localhost:8080/",
          "height": 284
        }
      },
      "source": [
        "plt.plot(sunspots_arr)"
      ],
      "execution_count": 0,
      "outputs": [
        {
          "output_type": "execute_result",
          "data": {
            "text/plain": [
              "[<matplotlib.lines.Line2D at 0x7f3f48e53908>]"
            ]
          },
          "metadata": {
            "tags": []
          },
          "execution_count": 61
        },
        {
          "output_type": "display_data",
          "data": {
            "image/png": "[encoded data removed]",
            "text/plain": [
              "<Figure size 432x288 with 1 Axes>"
            ]
          },
          "metadata": {
            "tags": [],
            "needs_background": "light"
          }
        }
      ]
    },
    {
      "cell_type": "code",
      "metadata": {
        "id": "M2egEcc10vNQ",
        "colab_type": "code",
        "outputId": "7b4bfaa3-b1f2-4380-cb71-d111d406c34c",
        "colab": {
          "base_uri": "https://localhost:8080/",
          "height": 284
        }
      },
      "source": [
        "close_series=sunspots['sunspots']\n",
        "close_series.plot()"
      ],
      "execution_count": 0,
      "outputs": [
        {
          "output_type": "execute_result",
          "data": {
            "text/plain": [
              "<matplotlib.axes._subplots.AxesSubplot at 0x7f3f48e8af28>"
            ]
          },
          "metadata": {
            "tags": []
          },
          "execution_count": 62
        },
        {
          "output_type": "display_data",
          "data": {
            "image/png": "[encoded data removed]",
            "text/plain": [
              "<Figure size 432x288 with 1 Axes>"
            ]
          },
          "metadata": {
            "tags": [],
            "needs_background": "light"
          }
        }
      ]
    },
    {
      "cell_type": "code",
      "metadata": {
        "id": "7H-k9vAk056y",
        "colab_type": "code",
        "colab": {}
      },
      "source": [
        ""
      ],
      "execution_count": 0,
      "outputs": []
    }
  ]
}